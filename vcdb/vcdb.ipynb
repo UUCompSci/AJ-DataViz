{
 "cells": [
  {
   "cell_type": "code",
   "execution_count": 4,
   "metadata": {},
   "outputs": [
    {
     "name": "stderr",
     "output_type": "stream",
     "text": [
      "/tmp/ipykernel_14281/2052661956.py:3: DtypeWarning: Columns (26,116,185,264,852,853,1413,2327) have mixed types. Specify dtype option on import or set low_memory=False.\n",
      "  vcdb = pd.read_csv('data/dbir/VCDB/data/csv/vcdbaa.csv')\n"
     ]
    }
   ],
   "source": [
    "import pandas as pd\n",
    "import numpy as np\n",
    "vcdb = pd.read_csv('data/dbir/VCDB/data/csv/vcdbaa.csv')"
   ]
  },
  {
   "cell_type": "code",
   "execution_count": null,
   "metadata": {},
   "outputs": [],
   "source": [
    "import pandas \n",
    "import random\n",
    "\n",
    "filename = \"\""
   ]
  },
  {
   "cell_type": "code",
   "execution_count": 2,
   "metadata": {},
   "outputs": [
    {
     "name": "stdout",
     "output_type": "stream",
     "text": [
      "<class 'pandas.core.frame.DataFrame'>\n",
      "RangeIndex: 9 entries, 0 to 8\n",
      "Columns: 2397 entries, action.environmental.notes to pattern.Everything Else\n",
      "dtypes: bool(2194), float64(178), int64(5), object(20)\n",
      "memory usage: 33.7+ KB\n"
     ]
    }
   ],
   "source": [
    "pd.options.display.max_info_columns = 1000\n",
    "vcdb.info()"
   ]
  },
  {
   "cell_type": "code",
   "execution_count": 3,
   "metadata": {},
   "outputs": [],
   "source": [
    "import pandas as pd\n",
    "vcdbjson = pd.read_json('data-json/testing/ff4ffac5-f7e1-4bee-a7ae-293fbcbfd821.json')"
   ]
  },
  {
   "cell_type": "code",
   "execution_count": 4,
   "metadata": {},
   "outputs": [
    {
     "name": "stdout",
     "output_type": "stream",
     "text": [
      "<class 'pandas.core.frame.DataFrame'>\n",
      "Index: 29 entries, physical to victim_id\n",
      "Data columns (total 16 columns):\n",
      " #   Column             Non-Null Count  Dtype \n",
      "---  ------             --------------  ----- \n",
      " 0   action             1 non-null      object\n",
      " 1   actor              1 non-null      object\n",
      " 2   asset              2 non-null      object\n",
      " 3   attribute          2 non-null      object\n",
      " 4   confidence         29 non-null     object\n",
      " 5   discovery_method   1 non-null      object\n",
      " 6   incident_id        29 non-null     object\n",
      " 7   plus               10 non-null     object\n",
      " 8   reference          29 non-null     object\n",
      " 9   schema_version     29 non-null     object\n",
      " 10  security_incident  29 non-null     object\n",
      " 11  source_id          29 non-null     object\n",
      " 12  summary            29 non-null     object\n",
      " 13  targeted           29 non-null     object\n",
      " 14  timeline           4 non-null      object\n",
      " 15  victim             8 non-null      object\n",
      "dtypes: object(16)\n",
      "memory usage: 3.9+ KB\n"
     ]
    }
   ],
   "source": [
    "vcdbjson.info()"
   ]
  },
  {
   "cell_type": "code",
   "execution_count": 6,
   "metadata": {},
   "outputs": [
    {
     "data": {
      "text/html": [
       "<div>\n",
       "<style scoped>\n",
       "    .dataframe tbody tr th:only-of-type {\n",
       "        vertical-align: middle;\n",
       "    }\n",
       "\n",
       "    .dataframe tbody tr th {\n",
       "        vertical-align: top;\n",
       "    }\n",
       "\n",
       "    .dataframe thead th {\n",
       "        text-align: right;\n",
       "    }\n",
       "</style>\n",
       "<table border=\"1\" class=\"dataframe\">\n",
       "  <thead>\n",
       "    <tr style=\"text-align: right;\">\n",
       "      <th></th>\n",
       "      <th>confidence</th>\n",
       "      <th>incident_id</th>\n",
       "      <th>reference</th>\n",
       "      <th>schema_version</th>\n",
       "      <th>security_incident</th>\n",
       "      <th>source_id</th>\n",
       "      <th>summary</th>\n",
       "      <th>targeted</th>\n",
       "      <th>action.physical.variety</th>\n",
       "      <th>action.physical.vector</th>\n",
       "      <th>...</th>\n",
       "      <th>timeline.incident.month</th>\n",
       "      <th>timeline.incident.year</th>\n",
       "      <th>victim.country</th>\n",
       "      <th>victim.employee_count</th>\n",
       "      <th>victim.government</th>\n",
       "      <th>victim.industry</th>\n",
       "      <th>victim.locations_affected</th>\n",
       "      <th>victim.region</th>\n",
       "      <th>victim.state</th>\n",
       "      <th>victim.victim_id</th>\n",
       "    </tr>\n",
       "  </thead>\n",
       "  <tbody>\n",
       "    <tr>\n",
       "      <th>0</th>\n",
       "      <td>High</td>\n",
       "      <td>2f7eaed0-9a1d-11e7-9c6e-153653ac7780</td>\n",
       "      <td>http://www.therepublic.com/2017/09/13/atm_card...</td>\n",
       "      <td>1.3.6</td>\n",
       "      <td>Confirmed</td>\n",
       "      <td>vcdb</td>\n",
       "      <td>ATM card-skimming device found at Columbus bank</td>\n",
       "      <td>Opportunistic</td>\n",
       "      <td>[Skimmer]</td>\n",
       "      <td>[Victim public area]</td>\n",
       "      <td>...</td>\n",
       "      <td>9</td>\n",
       "      <td>2017</td>\n",
       "      <td>[US]</td>\n",
       "      <td>11 to 100</td>\n",
       "      <td>[NA]</td>\n",
       "      <td>522110</td>\n",
       "      <td>1</td>\n",
       "      <td>[019021]</td>\n",
       "      <td>OH</td>\n",
       "      <td>MainSource Bank</td>\n",
       "    </tr>\n",
       "  </tbody>\n",
       "</table>\n",
       "<p>1 rows × 45 columns</p>\n",
       "</div>"
      ],
      "text/plain": [
       "  confidence                           incident_id  \\\n",
       "0       High  2f7eaed0-9a1d-11e7-9c6e-153653ac7780   \n",
       "\n",
       "                                           reference schema_version  \\\n",
       "0  http://www.therepublic.com/2017/09/13/atm_card...          1.3.6   \n",
       "\n",
       "  security_incident source_id  \\\n",
       "0         Confirmed      vcdb   \n",
       "\n",
       "                                           summary       targeted  \\\n",
       "0  ATM card-skimming device found at Columbus bank  Opportunistic   \n",
       "\n",
       "  action.physical.variety action.physical.vector  ... timeline.incident.month  \\\n",
       "0               [Skimmer]   [Victim public area]  ...                       9   \n",
       "\n",
       "  timeline.incident.year victim.country victim.employee_count  \\\n",
       "0                   2017           [US]             11 to 100   \n",
       "\n",
       "  victim.government victim.industry victim.locations_affected victim.region  \\\n",
       "0              [NA]          522110                         1      [019021]   \n",
       "\n",
       "  victim.state victim.victim_id  \n",
       "0           OH  MainSource Bank  \n",
       "\n",
       "[1 rows x 45 columns]"
      ]
     },
     "execution_count": 6,
     "metadata": {},
     "output_type": "execute_result"
    },
    {
     "name": "stderr",
     "output_type": "stream",
     "text": [
      "Bad pipe message: %s [b'\\r\\xa3\\xa4\\xb0\\x0fQ\\xbej\\xc1\\xef\\x8c=\\xd8\\xab\\x0b\\xd8\\xdf\\xf5 :b\\x1a\\xaa\\x8a\\xfc;\\xeea^\\xeb\\x81YY\\xf4w\\n\\xbf\\xf5V\\xb8\\xa2Ts^\\xd7\\x02W\\xb9y.\\x19\\x00\\x08\\x13\\x02\\x13\\x03\\x13\\x01\\x00\\xff\\x01\\x00\\x00\\x8f\\x00\\x00\\x00\\x0e\\x00\\x0c\\x00\\x00\\t127.0.0.1\\x00\\x0b\\x00\\x04\\x03\\x00\\x01\\x02\\x00\\n\\x00\\x0c\\x00\\n\\x00\\x1d\\x00\\x17\\x00\\x1e\\x00\\x19\\x00\\x18\\x00#\\x00\\x00\\x00\\x16\\x00\\x00\\x00\\x17\\x00\\x00\\x00\\r\\x00\\x1e\\x00\\x1c\\x04\\x03\\x05\\x03\\x06\\x03\\x08\\x07\\x08\\x08\\x08\\t\\x08\\n\\x08']\n",
      "Bad pipe message: %s [b'\\x04\\x08\\x05\\x08\\x06\\x04\\x01\\x05\\x01\\x06']\n",
      "Bad pipe message: %s [b'\\xf4\\xe4ST[p\\xf1EQ\\xe0\\xab],N\\x87\\xa6\\xfe\\xf0\\x00\\x00|\\xc0,\\xc00\\x00\\xa3\\x00\\x9f\\xcc\\xa9\\xcc\\xa8\\xcc\\xaa\\xc0\\xaf\\xc0\\xad\\xc0\\xa3\\xc0\\x9f\\xc0]\\xc0a\\xc0W\\xc0S\\xc0+\\xc0/\\x00\\xa2\\x00\\x9e\\xc0\\xae\\xc0\\xac\\xc0\\xa2\\xc0\\x9e\\xc0\\\\\\xc0`\\xc0V\\xc0R']\n",
      "Bad pipe message: %s [b\"\\x10c\\xe6\\xe97\\x87\\x9fM\\xe3O\\xbf{\\xb5\\xd7\\xcd\\xa5\\xc4\\xb3\\x00\\x00\\xa6\\xc0,\\xc00\\x00\\xa3\\x00\\x9f\\xcc\\xa9\\xcc\\xa8\\xcc\\xaa\\xc0\\xaf\\xc0\\xad\\xc0\\xa3\\xc0\\x9f\\xc0]\\xc0a\\xc0W\\xc0S\\xc0+\\xc0/\\x00\\xa2\\x00\\x9e\\xc0\\xae\\xc0\\xac\\xc0\\xa2\\xc0\\x9e\\xc0\\\\\\xc0`\\xc0V\\xc0R\\xc0$\\xc0(\\x00k\\x00j\\xc0s\\xc0w\\x00\\xc4\\x00\\xc3\\xc0#\\xc0'\\x00g\\x00@\\xc0r\\xc0v\\x00\\xbe\\x00\\xbd\\xc0\\n\\xc0\\x14\\x009\\x008\\x00\\x88\\x00\\x87\\xc0\\t\\xc0\", b'3\\x002\\x00\\x9a\\x00\\x99\\x00E\\x00D\\xc0\\x07\\xc0\\x11\\xc0\\x08\\xc0']\n",
      "Bad pipe message: %s [b'\\xf4\\x86x\\x85\\x08$\\xde1\\x06\\xaa\\xa9\\xdaKz\\xdeH{\\xc2\\x00\\x00>\\xc0\\x14\\xc0\\n\\x009\\x008\\x007\\x006\\xc0\\x0f\\xc0\\x05\\x005\\xc0\\x13\\xc0\\t\\x003\\x002\\x001\\x000\\xc0\\x0e\\xc0\\x04\\x00/\\x00\\x9a\\x00\\x99\\x00\\x98\\x00\\x97\\x00\\x96\\x00\\x07\\xc0\\x11\\xc0\\x07\\xc0\\x0c\\xc0\\x02\\x00\\x05\\x00\\x04\\x00\\xff\\x02\\x01\\x00\\x00C\\x00\\x00\\x00\\x0e\\x00\\x0c\\x00\\x00\\t127.0.0.1\\x00\\x0b\\x00\\x04\\x03\\x00\\x01\\x02\\x00\\n\\x00\\x1c\\x00\\x1a\\x00\\x17\\x00\\x19\\x00']\n",
      "Bad pipe message: %s [b'\\x9f\\xe2\\xf6c(\\x9f\\xae\\xf3\\xb8Z\\xf0H`yu\\x87\\xab\\x1f\\x00\\x00\\xa2\\xc0\\x14\\xc0\\n\\x009\\x008\\x007\\x006\\x00', b'\\x87\\x00\\x86\\x00\\x85\\xc0\\x19\\x00:\\x00\\x89\\xc0\\x0f\\xc0\\x05\\x005\\x00\\x84\\xc0\\x13\\xc0\\t\\x003\\x002\\x001\\x000\\x00\\x9a\\x00\\x99\\x00\\x98\\x00\\x97\\x00E\\x00D\\x00C\\x00B\\xc0\\x18\\x004\\x00\\x9b\\x00F\\xc0\\x0e\\xc0\\x04\\x00/\\x00\\x96\\x00A\\x00\\x07\\xc0\\x11\\xc0\\x07\\xc0\\x16\\x00\\x18\\xc0\\x0c\\xc0\\x02\\x00\\x05\\x00\\x04\\xc0\\x12\\xc0\\x08\\x00\\x16\\x00\\x13\\x00\\x10\\x00\\r\\xc0\\x17\\x00\\x1b\\xc0\\r\\xc0\\x03\\x00\\n\\x00\\x15\\x00\\x12\\x00\\x0f\\x00\\x0c\\x00\\x1a\\x00\\t\\x00\\x14\\x00\\x11\\x00\\x19\\x00\\x08\\x00\\x06\\x00\\x17\\x00\\x03\\xc0\\x10\\xc0\\x06']\n",
      "Bad pipe message: %s [b\"@e\\xfd=p\\xecb\\xcf\\xe8\\x02y\\x99\\xa2-\\xffg6\\xc6\\x00\\x00\\xf4\\xc00\\xc0,\\xc0(\\xc0$\\xc0\\x14\\xc0\\n\\x00\\xa5\\x00\\xa3\\x00\\xa1\\x00\\x9f\\x00k\\x00j\\x00i\\x00h\\x009\\x008\\x007\\x006\\x00\\x88\\x00\\x87\\x00\\x86\\x00\\x85\\xc0\\x19\\x00\\xa7\\x00m\\x00:\\x00\\x89\\xc02\\xc0.\\xc0*\\xc0&\\xc0\\x0f\\xc0\\x05\\x00\\x9d\\x00=\\x005\\x00\\x84\\xc0/\\xc0+\\xc0'\\xc0#\\xc0\\x13\\xc0\\t\\x00\\xa4\\x00\\xa2\\x00\\xa0\\x00\\x9e\\x00g\\x00@\\x00?\\x00>\\x003\\x002\\x001\\x000\\x00\\x9a\\x00\\x99\\x00\\x98\\x00\\x97\\x00E\\x00D\\x00C\\x00B\\xc0\\x18\\x00\\xa6\\x00l\\x004\\x00\\x9b\\x00F\\xc01\\xc0-\\xc0)\\xc0%\\xc0\\x0e\\xc0\\x04\\x00\\x9c\\x00<\\x00/\\x00\\x96\\x00A\\x00\\x07\\xc0\\x11\\xc0\\x07\\xc0\\x16\\x00\\x18\\xc0\\x0c\\xc0\\x02\\x00\\x05\\x00\\x04\\xc0\\x12\\xc0\\x08\\x00\\x16\\x00\\x13\\x00\\x10\\x00\\r\\xc0\\x17\\x00\\x1b\\xc0\\r\\xc0\\x03\\x00\\n\\x00\", b'\\x12\\x00\\x0f\\x00\\x0c\\x00\\x1a\\x00\\t\\x00\\x14\\x00\\x11\\x00\\x19\\x00\\x08\\x00\\x06\\x00']\n",
      "Bad pipe message: %s [b'V\\xa8\\xb4\\xfe\\xb5R\\xef\\xa0H\\xa3\\x06W\\xfa\\x16\\xa0']\n",
      "Bad pipe message: %s [b'']\n",
      "Bad pipe message: %s [b'\\x03\\xc0\\x10\\xc0\\x06\\xc0\\x15\\xc0\\x0b\\xc0\\x01\\x00;\\x00\\x02\\x00\\x01\\x00\\xff\\x02\\x01\\x00']\n",
      "Bad pipe message: %s [b'\\x16\\x00\\x13\\x00\\x9d\\xc0\\xa1\\xc0\\x9d\\xc0Q\\x00\\x9c\\xc0\\xa0\\xc0\\x9c']\n",
      "Bad pipe message: %s [b'\\x1b\\x00\\x18\\x00\\x1a\\x00\\x16\\x00\\x0e\\x00\\r\\x00\\x0b\\x00\\x0c\\x00\\t\\x00\\n\\x00#\\x00\\x00\\x00\\x0f\\x00\\x01']\n",
      "Bad pipe message: %s [b'\\x03\\x02\\x03\\x04\\x00-\\x00\\x02\\x01\\x01\\x003\\x00&\\x00$\\x00\\x1d\\x00 \\xe8c\\xae\\xfaU\\x86\\xda\\xe2\\xe5`V\\xa5\\x87\\r\\x9ft\\x82i\\xa8\\xd1\\xa1(']\n",
      "Bad pipe message: %s [b'', b'\\x00\\x02']\n"
     ]
    }
   ],
   "source": [
    "import json\n",
    "# load data using Python JSON module\n",
    "with open('data-json/testing/ff4ffac5-f7e1-4bee-a7ae-293fbcbfd821.json','r') as f:\n",
    "    data = json.loads(f.read())\n",
    "\n",
    "# Flattening JSON data\n",
    "data = pd.json_normalize(data)\n",
    "# to see max columns: pd.options.display.max_columns = 50\n",
    "data"
   ]
  },
  {
   "cell_type": "code",
   "execution_count": 15,
   "metadata": {},
   "outputs": [
    {
     "ename": "ValueError",
     "evalue": "No objects to concatenate",
     "output_type": "error",
     "traceback": [
      "\u001b[0;31m---------------------------------------------------------------------------\u001b[0m",
      "\u001b[0;31mValueError\u001b[0m                                Traceback (most recent call last)",
      "\u001b[1;32m/workspaces/AJ-DataViz/vcdb/vcdb.ipynb Cell 6\u001b[0m in \u001b[0;36m<cell line: 20>\u001b[0;34m()\u001b[0m\n\u001b[1;32m     <a href='vscode-notebook-cell://codespaces%2Bajz30-uucompsci-aj-dataviz-wpqrgjgx5rg29967/workspaces/AJ-DataViz/vcdb/vcdb.ipynb#W5sdnNjb2RlLXJlbW90ZQ%3D%3D?line=17'>18</a>\u001b[0m     dfs\u001b[39m.\u001b[39mappend(json_data)\n\u001b[1;32m     <a href='vscode-notebook-cell://codespaces%2Bajz30-uucompsci-aj-dataviz-wpqrgjgx5rg29967/workspaces/AJ-DataViz/vcdb/vcdb.ipynb#W5sdnNjb2RlLXJlbW90ZQ%3D%3D?line=18'>19</a>\u001b[0m \u001b[39m# Concatenate the json data entries to the dataframe\u001b[39;00m\n\u001b[0;32m---> <a href='vscode-notebook-cell://codespaces%2Bajz30-uucompsci-aj-dataviz-wpqrgjgx5rg29967/workspaces/AJ-DataViz/vcdb/vcdb.ipynb#W5sdnNjb2RlLXJlbW90ZQ%3D%3D?line=19'>20</a>\u001b[0m df \u001b[39m=\u001b[39m pd\u001b[39m.\u001b[39;49mconcat(dfs, sort\u001b[39m=\u001b[39;49m\u001b[39mFalse\u001b[39;49;00m) \u001b[39m# or sort=True depending on your needs\u001b[39;00m\n\u001b[1;32m     <a href='vscode-notebook-cell://codespaces%2Bajz30-uucompsci-aj-dataviz-wpqrgjgx5rg29967/workspaces/AJ-DataViz/vcdb/vcdb.ipynb#W5sdnNjb2RlLXJlbW90ZQ%3D%3D?line=20'>21</a>\u001b[0m df\u001b[39m.\u001b[39minfo()\n",
      "File \u001b[0;32m/opt/python/3.10.4/lib/python3.10/site-packages/pandas/util/_decorators.py:311\u001b[0m, in \u001b[0;36mdeprecate_nonkeyword_arguments.<locals>.decorate.<locals>.wrapper\u001b[0;34m(*args, **kwargs)\u001b[0m\n\u001b[1;32m    305\u001b[0m \u001b[39mif\u001b[39;00m \u001b[39mlen\u001b[39m(args) \u001b[39m>\u001b[39m num_allow_args:\n\u001b[1;32m    306\u001b[0m     warnings\u001b[39m.\u001b[39mwarn(\n\u001b[1;32m    307\u001b[0m         msg\u001b[39m.\u001b[39mformat(arguments\u001b[39m=\u001b[39marguments),\n\u001b[1;32m    308\u001b[0m         \u001b[39mFutureWarning\u001b[39;00m,\n\u001b[1;32m    309\u001b[0m         stacklevel\u001b[39m=\u001b[39mstacklevel,\n\u001b[1;32m    310\u001b[0m     )\n\u001b[0;32m--> 311\u001b[0m \u001b[39mreturn\u001b[39;00m func(\u001b[39m*\u001b[39;49margs, \u001b[39m*\u001b[39;49m\u001b[39m*\u001b[39;49mkwargs)\n",
      "File \u001b[0;32m/opt/python/3.10.4/lib/python3.10/site-packages/pandas/core/reshape/concat.py:347\u001b[0m, in \u001b[0;36mconcat\u001b[0;34m(objs, axis, join, ignore_index, keys, levels, names, verify_integrity, sort, copy)\u001b[0m\n\u001b[1;32m    143\u001b[0m \u001b[39m@deprecate_nonkeyword_arguments\u001b[39m(version\u001b[39m=\u001b[39m\u001b[39mNone\u001b[39;00m, allowed_args\u001b[39m=\u001b[39m[\u001b[39m\"\u001b[39m\u001b[39mobjs\u001b[39m\u001b[39m\"\u001b[39m])\n\u001b[1;32m    144\u001b[0m \u001b[39mdef\u001b[39;00m \u001b[39mconcat\u001b[39m(\n\u001b[1;32m    145\u001b[0m     objs: Iterable[NDFrame] \u001b[39m|\u001b[39m Mapping[Hashable, NDFrame],\n\u001b[0;32m   (...)\u001b[0m\n\u001b[1;32m    154\u001b[0m     copy: \u001b[39mbool\u001b[39m \u001b[39m=\u001b[39m \u001b[39mTrue\u001b[39;00m,\n\u001b[1;32m    155\u001b[0m ) \u001b[39m-\u001b[39m\u001b[39m>\u001b[39m DataFrame \u001b[39m|\u001b[39m Series:\n\u001b[1;32m    156\u001b[0m     \u001b[39m\"\"\"\u001b[39;00m\n\u001b[1;32m    157\u001b[0m \u001b[39m    Concatenate pandas objects along a particular axis with optional set logic\u001b[39;00m\n\u001b[1;32m    158\u001b[0m \u001b[39m    along the other axes.\u001b[39;00m\n\u001b[0;32m   (...)\u001b[0m\n\u001b[1;32m    345\u001b[0m \u001b[39m    ValueError: Indexes have overlapping values: ['a']\u001b[39;00m\n\u001b[1;32m    346\u001b[0m \u001b[39m    \"\"\"\u001b[39;00m\n\u001b[0;32m--> 347\u001b[0m     op \u001b[39m=\u001b[39m _Concatenator(\n\u001b[1;32m    348\u001b[0m         objs,\n\u001b[1;32m    349\u001b[0m         axis\u001b[39m=\u001b[39;49maxis,\n\u001b[1;32m    350\u001b[0m         ignore_index\u001b[39m=\u001b[39;49mignore_index,\n\u001b[1;32m    351\u001b[0m         join\u001b[39m=\u001b[39;49mjoin,\n\u001b[1;32m    352\u001b[0m         keys\u001b[39m=\u001b[39;49mkeys,\n\u001b[1;32m    353\u001b[0m         levels\u001b[39m=\u001b[39;49mlevels,\n\u001b[1;32m    354\u001b[0m         names\u001b[39m=\u001b[39;49mnames,\n\u001b[1;32m    355\u001b[0m         verify_integrity\u001b[39m=\u001b[39;49mverify_integrity,\n\u001b[1;32m    356\u001b[0m         copy\u001b[39m=\u001b[39;49mcopy,\n\u001b[1;32m    357\u001b[0m         sort\u001b[39m=\u001b[39;49msort,\n\u001b[1;32m    358\u001b[0m     )\n\u001b[1;32m    360\u001b[0m     \u001b[39mreturn\u001b[39;00m op\u001b[39m.\u001b[39mget_result()\n",
      "File \u001b[0;32m/opt/python/3.10.4/lib/python3.10/site-packages/pandas/core/reshape/concat.py:404\u001b[0m, in \u001b[0;36m_Concatenator.__init__\u001b[0;34m(self, objs, axis, join, keys, levels, names, ignore_index, verify_integrity, copy, sort)\u001b[0m\n\u001b[1;32m    401\u001b[0m     objs \u001b[39m=\u001b[39m \u001b[39mlist\u001b[39m(objs)\n\u001b[1;32m    403\u001b[0m \u001b[39mif\u001b[39;00m \u001b[39mlen\u001b[39m(objs) \u001b[39m==\u001b[39m \u001b[39m0\u001b[39m:\n\u001b[0;32m--> 404\u001b[0m     \u001b[39mraise\u001b[39;00m \u001b[39mValueError\u001b[39;00m(\u001b[39m\"\u001b[39m\u001b[39mNo objects to concatenate\u001b[39m\u001b[39m\"\u001b[39m)\n\u001b[1;32m    406\u001b[0m \u001b[39mif\u001b[39;00m keys \u001b[39mis\u001b[39;00m \u001b[39mNone\u001b[39;00m:\n\u001b[1;32m    407\u001b[0m     objs \u001b[39m=\u001b[39m \u001b[39mlist\u001b[39m(com\u001b[39m.\u001b[39mnot_none(\u001b[39m*\u001b[39mobjs))\n",
      "\u001b[0;31mValueError\u001b[0m: No objects to concatenate"
     ]
    }
   ],
   "source": [
    "import pandas as pd\n",
    "import glob\n",
    "# Directory of the data files\n",
    "path_to_json = 'data-json/testing'\n",
    "# Build qualified path to data files\n",
    "json_pattern = os.path.join(path_to_json, '\".json')\n",
    "# Listing of directory + each json file\n",
    "file_list = glob.glob(json_pattern)\n",
    "\n",
    "dfs = []\n",
    "# Loop throuh all the files in the list\n",
    "for file in file_list:\n",
    "    # Open each file\n",
    "    with open(file) as f:\n",
    "        # read the file, parse the json, normalize or flatten\n",
    "        json_data = pd.json_normalize(json.loads(f.read()))\n",
    "        # Add the entry to the array\n",
    "    dfs.append(json_data)\n",
    "# Concatenate the json data entries to the dataframe\n",
    "df = pd.concat(dfs, sort=False) # or sort=True depending on your needs\n",
    "df.info()"
   ]
  }
 ],
 "metadata": {
  "kernelspec": {
   "display_name": "Python 3.10.4 64-bit",
   "language": "python",
   "name": "python3"
  },
  "language_info": {
   "codemirror_mode": {
    "name": "ipython",
    "version": 3
   },
   "file_extension": ".py",
   "mimetype": "text/x-python",
   "name": "python",
   "nbconvert_exporter": "python",
   "pygments_lexer": "ipython3",
   "version": "3.10.4"
  },
  "orig_nbformat": 4,
  "vscode": {
   "interpreter": {
    "hash": "4f946df053fbf2b937619d3c5458e7af74262f9a954d8797ba0b27400bcafe06"
   }
  }
 },
 "nbformat": 4,
 "nbformat_minor": 2
}
